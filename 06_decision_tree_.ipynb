{
  "cells": [
    {
      "cell_type": "code",
      "execution_count": 4,
      "metadata": {
        "id": "9a49ca51"
      },
      "outputs": [],
      "source": [
        "import pandas as pd\n",
        "from sklearn.tree import DecisionTreeClassifier\n",
        "from sklearn.model_selection import train_test_split\n",
        "from sklearn import metrics"
      ]
    },
    {
      "cell_type": "code",
      "execution_count": 5,
      "metadata": {
        "id": "f0ea9acd"
      },
      "outputs": [],
      "source": [
        "df = pd.read_csv(\"diabetes.csv\")"
      ]
    },
    {
      "cell_type": "code",
      "execution_count": 6,
      "metadata": {
        "id": "8c51884f"
      },
      "outputs": [],
      "source": [
        "feature_cols = ['Pregnancies', 'Insulin', 'BMI', 'Age', 'Glucose', 'BloodPressure', 'DiabetesPedigreeFunction']\n",
        "X = df[feature_cols]\n",
        "y = df['Outcome']"
      ]
    },
    {
      "cell_type": "code",
      "execution_count": 7,
      "metadata": {
        "id": "8d410b2d"
      },
      "outputs": [],
      "source": [
        "X_train, X_test, y_train, y_test = train_test_split(X, y, test_size=0.3, random_state=1)"
      ]
    },
    {
      "cell_type": "code",
      "execution_count": 8,
      "metadata": {
        "id": "3993da89"
      },
      "outputs": [],
      "source": [
        "clf = DecisionTreeClassifier()\n",
        "clf = clf.fit(X_train, y_train)"
      ]
    },
    {
      "cell_type": "code",
      "execution_count": 9,
      "metadata": {
        "id": "832d9191"
      },
      "outputs": [],
      "source": [
        "y_pred = clf.predict(X_test)"
      ]
    },
    {
      "cell_type": "code",
      "execution_count": 10,
      "metadata": {
        "id": "7d4d35cb"
      },
      "outputs": [
        {
          "name": "stdout",
          "output_type": "stream",
          "text": [
            "Accuracy: 0.7012987012987013\n",
            "Precision: 0.6081081081081081\n",
            "Recall: 0.5294117647058824\n",
            "F1: 0.5660377358490566\n"
          ]
        }
      ],
      "source": [
        "print(\"Accuracy:\", metrics.accuracy_score(y_test, y_pred))\n",
        "print(\"Precision:\", metrics.precision_score(y_test, y_pred))\n",
        "print(\"Recall:\", metrics.recall_score(y_test, y_pred))\n",
        "print(\"F1:\", metrics.f1_score(y_test, y_pred))"
      ]
    },
    {
      "cell_type": "code",
      "execution_count": 14,
      "metadata": {},
      "outputs": [
        {
          "ename": "InvocationException",
          "evalue": "GraphViz's executables not found",
          "output_type": "error",
          "traceback": [
            "\u001b[31m---------------------------------------------------------------------------\u001b[39m",
            "\u001b[31mInvocationException\u001b[39m                       Traceback (most recent call last)",
            "\u001b[36mCell\u001b[39m\u001b[36m \u001b[39m\u001b[32mIn[14]\u001b[39m\u001b[32m, line 9\u001b[39m\n\u001b[32m      7\u001b[39m export_graphviz(clf, out_file=dot_data,  filled=\u001b[38;5;28;01mTrue\u001b[39;00m, rounded=\u001b[38;5;28;01mTrue\u001b[39;00m,special_characters=\u001b[38;5;28;01mTrue\u001b[39;00m,feature_names=feature_cols,class_names=[\u001b[33m'\u001b[39m\u001b[33m0\u001b[39m\u001b[33m'\u001b[39m,\u001b[33m'\u001b[39m\u001b[33m1\u001b[39m\u001b[33m'\u001b[39m])\n\u001b[32m      8\u001b[39m graph = pydotplus.graph_from_dot_data(dot_data.getvalue())  \n\u001b[32m----> \u001b[39m\u001b[32m9\u001b[39m \u001b[43mgraph\u001b[49m\u001b[43m.\u001b[49m\u001b[43mwrite_png\u001b[49m\u001b[43m(\u001b[49m\u001b[33;43m'\u001b[39;49m\u001b[33;43mdiabetes.png\u001b[39;49m\u001b[33;43m'\u001b[39;49m\u001b[43m)\u001b[49m\n\u001b[32m     10\u001b[39m Image(graph.create_png())\n",
            "\u001b[36mFile \u001b[39m\u001b[32mc:\\Users\\dell\\AppData\\Local\\Programs\\Python\\Python312\\Lib\\site-packages\\pydotplus\\graphviz.py:1810\u001b[39m, in \u001b[36mDot.__init__.<locals>.<lambda>\u001b[39m\u001b[34m(path, f, prog)\u001b[39m\n\u001b[32m   1800\u001b[39m     f.\u001b[34m__doc__\u001b[39m = (\n\u001b[32m   1801\u001b[39m \u001b[38;5;250m        \u001b[39m\u001b[33;03m'''Refer to the docstring accompanying the'''\u001b[39;00m\n\u001b[32m   1802\u001b[39m \u001b[38;5;250m        \u001b[39m\u001b[33;03m''''create' method for more information.'''\u001b[39;00m\n\u001b[32m   1803\u001b[39m     )\n\u001b[32m   1805\u001b[39m \u001b[38;5;28;01mfor\u001b[39;00m frmt \u001b[38;5;129;01min\u001b[39;00m \u001b[38;5;28mself\u001b[39m.formats + [\u001b[33m'\u001b[39m\u001b[33mraw\u001b[39m\u001b[33m'\u001b[39m]:\n\u001b[32m   1806\u001b[39m     \u001b[38;5;28mself\u001b[39m.\u001b[34m__setattr__\u001b[39m(\n\u001b[32m   1807\u001b[39m         \u001b[33m'\u001b[39m\u001b[33mwrite_\u001b[39m\u001b[33m'\u001b[39m + frmt,\n\u001b[32m   1808\u001b[39m         \u001b[38;5;28;01mlambda\u001b[39;00m path,\n\u001b[32m   1809\u001b[39m         f=frmt,\n\u001b[32m-> \u001b[39m\u001b[32m1810\u001b[39m         prog=\u001b[38;5;28mself\u001b[39m.prog: \u001b[38;5;28;43mself\u001b[39;49m\u001b[43m.\u001b[49m\u001b[43mwrite\u001b[49m\u001b[43m(\u001b[49m\u001b[43mpath\u001b[49m\u001b[43m,\u001b[49m\u001b[43m \u001b[49m\u001b[38;5;28;43mformat\u001b[39;49m\u001b[43m=\u001b[49m\u001b[43mf\u001b[49m\u001b[43m,\u001b[49m\u001b[43m \u001b[49m\u001b[43mprog\u001b[49m\u001b[43m=\u001b[49m\u001b[43mprog\u001b[49m\u001b[43m)\u001b[49m\n\u001b[32m   1811\u001b[39m     )\n\u001b[32m   1813\u001b[39m     f = \u001b[38;5;28mself\u001b[39m.\u001b[34m__dict__\u001b[39m[\u001b[33m'\u001b[39m\u001b[33mwrite_\u001b[39m\u001b[33m'\u001b[39m + frmt]\n\u001b[32m   1814\u001b[39m     f.\u001b[34m__doc__\u001b[39m = (\n\u001b[32m   1815\u001b[39m \u001b[38;5;250m        \u001b[39m\u001b[33;03m'''Refer to the docstring accompanying the'''\u001b[39;00m\n\u001b[32m   1816\u001b[39m \u001b[38;5;250m        \u001b[39m\u001b[33;03m''''write' method for more information.'''\u001b[39;00m\n\u001b[32m   1817\u001b[39m     )\n",
            "\u001b[36mFile \u001b[39m\u001b[32mc:\\Users\\dell\\AppData\\Local\\Programs\\Python\\Python312\\Lib\\site-packages\\pydotplus\\graphviz.py:1918\u001b[39m, in \u001b[36mDot.write\u001b[39m\u001b[34m(self, path, prog, format)\u001b[39m\n\u001b[32m   1915\u001b[39m         fobj.write(data)\n\u001b[32m   1917\u001b[39m     \u001b[38;5;28;01melse\u001b[39;00m:\n\u001b[32m-> \u001b[39m\u001b[32m1918\u001b[39m         fobj.write(\u001b[38;5;28;43mself\u001b[39;49m\u001b[43m.\u001b[49m\u001b[43mcreate\u001b[49m\u001b[43m(\u001b[49m\u001b[43mprog\u001b[49m\u001b[43m,\u001b[49m\u001b[43m \u001b[49m\u001b[38;5;28;43mformat\u001b[39;49m\u001b[43m)\u001b[49m)\n\u001b[32m   1919\u001b[39m \u001b[38;5;28;01mfinally\u001b[39;00m:\n\u001b[32m   1920\u001b[39m     \u001b[38;5;28;01mif\u001b[39;00m close:\n",
            "\u001b[36mFile \u001b[39m\u001b[32mc:\\Users\\dell\\AppData\\Local\\Programs\\Python\\Python312\\Lib\\site-packages\\pydotplus\\graphviz.py:1959\u001b[39m, in \u001b[36mDot.create\u001b[39m\u001b[34m(self, prog, format)\u001b[39m\n\u001b[32m   1957\u001b[39m     \u001b[38;5;28mself\u001b[39m.progs = find_graphviz()\n\u001b[32m   1958\u001b[39m     \u001b[38;5;28;01mif\u001b[39;00m \u001b[38;5;28mself\u001b[39m.progs \u001b[38;5;129;01mis\u001b[39;00m \u001b[38;5;28;01mNone\u001b[39;00m:\n\u001b[32m-> \u001b[39m\u001b[32m1959\u001b[39m         \u001b[38;5;28;01mraise\u001b[39;00m InvocationException(\n\u001b[32m   1960\u001b[39m             \u001b[33m'\u001b[39m\u001b[33mGraphViz\u001b[39m\u001b[38;5;130;01m\\'\u001b[39;00m\u001b[33ms executables not found\u001b[39m\u001b[33m'\u001b[39m)\n\u001b[32m   1962\u001b[39m \u001b[38;5;28;01mif\u001b[39;00m prog \u001b[38;5;129;01mnot\u001b[39;00m \u001b[38;5;129;01min\u001b[39;00m \u001b[38;5;28mself\u001b[39m.progs:\n\u001b[32m   1963\u001b[39m     \u001b[38;5;28;01mraise\u001b[39;00m InvocationException(\n\u001b[32m   1964\u001b[39m         \u001b[33m'\u001b[39m\u001b[33mGraphViz\u001b[39m\u001b[38;5;130;01m\\'\u001b[39;00m\u001b[33ms executable \u001b[39m\u001b[33m\"\u001b[39m\u001b[38;5;132;01m%s\u001b[39;00m\u001b[33m\"\u001b[39m\u001b[33m not found\u001b[39m\u001b[33m'\u001b[39m % prog)\n",
            "\u001b[31mInvocationException\u001b[39m: GraphViz's executables not found"
          ]
        }
      ],
      "source": [
        "from sklearn.tree import export_graphviz\n",
        "from io import StringIO  \n",
        "from IPython.display import Image  \n",
        "import pydotplus\n",
        "\n",
        "dot_data = StringIO()\n",
        "export_graphviz(clf, out_file=dot_data,  filled=True, rounded=True,special_characters=True,feature_names=feature_cols,class_names=['0','1'])\n",
        "graph = pydotplus.graph_from_dot_data(dot_data.getvalue())  \n",
        "graph.write_png('diabetes.png')\n",
        "Image(graph.create_png())"
      ]
    },
    {
      "cell_type": "code",
      "execution_count": 2,
      "metadata": {},
      "outputs": [
        {
          "ename": "NameError",
          "evalue": "name 'clf' is not defined",
          "output_type": "error",
          "traceback": [
            "\u001b[31m---------------------------------------------------------------------------\u001b[39m",
            "\u001b[31mNameError\u001b[39m                                 Traceback (most recent call last)",
            "\u001b[36mCell\u001b[39m\u001b[36m \u001b[39m\u001b[32mIn[2]\u001b[39m\u001b[32m, line 5\u001b[39m\n\u001b[32m      1\u001b[39m \u001b[38;5;28;01mfrom\u001b[39;00m\u001b[38;5;250m \u001b[39m\u001b[34;01mdtreeviz\u001b[39;00m\u001b[38;5;250m \u001b[39m\u001b[38;5;28;01mimport\u001b[39;00m dtreeviz\n\u001b[32m      4\u001b[39m viz = dtreeviz(\n\u001b[32m----> \u001b[39m\u001b[32m5\u001b[39m     \u001b[43mclf\u001b[49m,\n\u001b[32m      6\u001b[39m     X_train,\n\u001b[32m      7\u001b[39m     y_train,\n\u001b[32m      8\u001b[39m     target_name=\u001b[33m\"\u001b[39m\u001b[33mDiabetes\u001b[39m\u001b[33m\"\u001b[39m,\n\u001b[32m      9\u001b[39m     feature_names=feature_cols,\n\u001b[32m     10\u001b[39m     class_names=[\u001b[33m\"\u001b[39m\u001b[33mNo Diabetes\u001b[39m\u001b[33m\"\u001b[39m, \u001b[33m\"\u001b[39m\u001b[33mDiabetes\u001b[39m\u001b[33m\"\u001b[39m]\n\u001b[32m     11\u001b[39m )\n\u001b[32m     12\u001b[39m viz.show()\n",
            "\u001b[31mNameError\u001b[39m: name 'clf' is not defined"
          ]
        }
      ],
      "source": [
        "from dtreeviz import dtreeviz\n",
        "\n",
        "\n",
        "viz = dtreeviz(\n",
        "    clf,\n",
        "    X_train,\n",
        "    y_train,\n",
        "    target_name=\"Diabetes\",\n",
        "    feature_names=feature_cols,\n",
        "    class_names=[\"No Diabetes\", \"Diabetes\"]\n",
        ")\n",
        "viz.show()\n"
      ]
    },
    {
      "cell_type": "code",
      "execution_count": null,
      "metadata": {},
      "outputs": [],
      "source": []
    }
  ],
  "metadata": {
    "colab": {
      "provenance": []
    },
    "kernelspec": {
      "display_name": "Python 3",
      "name": "python3"
    },
    "language_info": {
      "codemirror_mode": {
        "name": "ipython",
        "version": 3
      },
      "file_extension": ".py",
      "mimetype": "text/x-python",
      "name": "python",
      "nbconvert_exporter": "python",
      "pygments_lexer": "ipython3",
      "version": "3.12.2"
    }
  },
  "nbformat": 4,
  "nbformat_minor": 0
}
